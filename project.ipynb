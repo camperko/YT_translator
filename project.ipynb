{
 "cells": [
  {
   "cell_type": "code",
   "execution_count": 13,
   "metadata": {
    "collapsed": true,
    "pycharm": {
     "name": "#%%\n"
    }
   },
   "outputs": [],
   "source": [
    "from selenium import webdriver\n",
    "import time\n",
    "\n",
    "channel_url = 'https://www.youtube.com/c/LinusTechTips/videos'\n",
    "aria_label = 'Agree to the use of cookies and other data for the purposes described'\n",
    "\n",
    "driver = webdriver.Chrome('../chromedriver/chromedriver.exe')\n",
    "driver.get(channel_url)\n",
    "\n",
    "time.sleep(5)\n",
    "\n",
    "button = driver.find_element_by_xpath(\"//button[@aria-label='Agree to the use of cookies and other data for the purposes described']\")\n",
    "button.click()\n",
    "\n",
    "for i in range(5):\n",
    "    time.sleep(2)\n",
    "    driver.execute_script(\"window.scrollTo(0, 100000)\")\n",
    "\n",
    "links = driver.find_elements_by_xpath(\"//a[@class='yt-simple-endpoint inline-block style-scope ytd-thumbnail'][@rel='null']\")\n",
    "urls = []\n",
    "\n",
    "for link in links:\n",
    "    urls.append(link.get_attribute('href'))\n",
    "\n",
    "time.sleep(2)\n",
    "\n",
    "driver.close()"
   ]
  },
  {
   "cell_type": "code",
   "execution_count": null,
   "outputs": [],
   "source": [
    "import pytube\n",
    "import os\n",
    "\n",
    "urls = ['https://www.youtube.com/watch?v=zC0TbZq_oIU']\n",
    "\n",
    "for url in urls:\n",
    "    yt = pytube.YouTube(url)\n",
    "    video = yt.streams.get_highest_resolution()\n",
    "    capt = yt.captions\n",
    "    if capt.lang_code_index.get('en'):\n",
    "        caption = yt.captions.get_by_language_code('en')\n",
    "    elif capt.lang_code_index.get('a.en'):\n",
    "        caption = yt.captions.get_by_language_code('a.en')\n",
    "    else:\n",
    "        continue\n",
    "\n",
    "    video_path = './downloads/{}'.format(video.title)\n",
    "    os.makedirs(video_path)\n",
    "    video.download(video_path)\n",
    "    srt_captions = caption.generate_srt_captions()\n",
    "    srt_name = '{}/{}.srt'.format(video_path, video.default_filename)\n",
    "    with open(srt_name, \"w\") as f:\n",
    "        f.write(srt_captions)"
   ],
   "metadata": {
    "collapsed": false,
    "pycharm": {
     "name": "#%%\n"
    }
   }
  }
 ],
 "metadata": {
  "kernelspec": {
   "name": "pycharm-827ff365",
   "language": "python",
   "display_name": "PyCharm (YouTube_translator)"
  },
  "language_info": {
   "codemirror_mode": {
    "name": "ipython",
    "version": 2
   },
   "file_extension": ".py",
   "mimetype": "text/x-python",
   "name": "python",
   "nbconvert_exporter": "python",
   "pygments_lexer": "ipython2",
   "version": "2.7.6"
  }
 },
 "nbformat": 4,
 "nbformat_minor": 0
}