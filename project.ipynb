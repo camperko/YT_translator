{
 "cells": [
  {
   "cell_type": "code",
   "execution_count": 1,
   "metadata": {
    "collapsed": true,
    "pycharm": {
     "name": "#%%\n"
    }
   },
   "outputs": [],
   "source": [
    "from selenium import webdriver\n",
    "import time\n",
    "import pytube\n",
    "import os\n",
    "import pysrt"
   ]
  },
  {
   "cell_type": "code",
   "execution_count": null,
   "outputs": [],
   "source": [
    "channel_url = 'https://www.youtube.com/c/LinusTechTips/videos'\n",
    "\n",
    "driver = webdriver.Chrome('../chromedriver/chromedriver.exe')\n",
    "driver.get(channel_url)\n",
    "\n",
    "time.sleep(5)\n",
    "\n",
    "button = driver.find_element_by_xpath(\"//button[@aria-label='Agree to the use of cookies and other data for the purposes described']\")\n",
    "button.click()\n",
    "\n",
    "for i in range(5):\n",
    "    time.sleep(2)\n",
    "    driver.execute_script(\"window.scrollTo(0, 100000)\")\n",
    "\n",
    "links = driver.find_elements_by_xpath(\"//a[@class='yt-simple-endpoint inline-block style-scope ytd-thumbnail'][@rel='null']\")\n",
    "urls = []\n",
    "\n",
    "for link in links:\n",
    "    urls.append(link.get_attribute('href'))\n",
    "\n",
    "time.sleep(2)\n",
    "\n",
    "driver.close()"
   ],
   "metadata": {
    "collapsed": false,
    "pycharm": {
     "name": "#%%\n"
    }
   }
  },
  {
   "cell_type": "code",
   "execution_count": 3,
   "outputs": [
    {
     "name": "stderr",
     "output_type": "stream",
     "text": [
      "<ipython-input-3-2e015b5b4b9f>:10: DeprecationWarning: Call to deprecated function get_by_language_code (This object can be treated as a dictionary, i.e. captions['en']).\n",
      "  caption = yt.captions.get_by_language_code('a.en')\n"
     ]
    },
    {
     "ename": "FileExistsError",
     "evalue": "[WinError 183] Cannot create a file when that file already exists: './downloads/Pyramids of Egypt - Lost Ancient Civilizations'",
     "output_type": "error",
     "traceback": [
      "\u001B[1;31m---------------------------------------------------------------------------\u001B[0m",
      "\u001B[1;31mFileExistsError\u001B[0m                           Traceback (most recent call last)",
      "\u001B[1;32m<ipython-input-3-2e015b5b4b9f>\u001B[0m in \u001B[0;36m<module>\u001B[1;34m\u001B[0m\n\u001B[0;32m     13\u001B[0m \u001B[1;33m\u001B[0m\u001B[0m\n\u001B[0;32m     14\u001B[0m     \u001B[0mvideo_path\u001B[0m \u001B[1;33m=\u001B[0m \u001B[1;34m'./downloads/{}'\u001B[0m\u001B[1;33m.\u001B[0m\u001B[0mformat\u001B[0m\u001B[1;33m(\u001B[0m\u001B[0mvideo\u001B[0m\u001B[1;33m.\u001B[0m\u001B[0mtitle\u001B[0m\u001B[1;33m)\u001B[0m\u001B[1;33m\u001B[0m\u001B[1;33m\u001B[0m\u001B[0m\n\u001B[1;32m---> 15\u001B[1;33m     \u001B[0mos\u001B[0m\u001B[1;33m.\u001B[0m\u001B[0mmakedirs\u001B[0m\u001B[1;33m(\u001B[0m\u001B[0mvideo_path\u001B[0m\u001B[1;33m)\u001B[0m\u001B[1;33m\u001B[0m\u001B[1;33m\u001B[0m\u001B[0m\n\u001B[0m\u001B[0;32m     16\u001B[0m     \u001B[0mvideo\u001B[0m\u001B[1;33m.\u001B[0m\u001B[0mdownload\u001B[0m\u001B[1;33m(\u001B[0m\u001B[0mvideo_path\u001B[0m\u001B[1;33m)\u001B[0m\u001B[1;33m\u001B[0m\u001B[1;33m\u001B[0m\u001B[0m\n\u001B[0;32m     17\u001B[0m     \u001B[0msrt_captions\u001B[0m \u001B[1;33m=\u001B[0m \u001B[0mcaption\u001B[0m\u001B[1;33m.\u001B[0m\u001B[0mgenerate_srt_captions\u001B[0m\u001B[1;33m(\u001B[0m\u001B[1;33m)\u001B[0m\u001B[1;33m\u001B[0m\u001B[1;33m\u001B[0m\u001B[0m\n",
      "\u001B[1;32mC:\\Programming\\python_3.8.9\\lib\\os.py\u001B[0m in \u001B[0;36mmakedirs\u001B[1;34m(name, mode, exist_ok)\u001B[0m\n\u001B[0;32m    221\u001B[0m             \u001B[1;32mreturn\u001B[0m\u001B[1;33m\u001B[0m\u001B[1;33m\u001B[0m\u001B[0m\n\u001B[0;32m    222\u001B[0m     \u001B[1;32mtry\u001B[0m\u001B[1;33m:\u001B[0m\u001B[1;33m\u001B[0m\u001B[1;33m\u001B[0m\u001B[0m\n\u001B[1;32m--> 223\u001B[1;33m         \u001B[0mmkdir\u001B[0m\u001B[1;33m(\u001B[0m\u001B[0mname\u001B[0m\u001B[1;33m,\u001B[0m \u001B[0mmode\u001B[0m\u001B[1;33m)\u001B[0m\u001B[1;33m\u001B[0m\u001B[1;33m\u001B[0m\u001B[0m\n\u001B[0m\u001B[0;32m    224\u001B[0m     \u001B[1;32mexcept\u001B[0m \u001B[0mOSError\u001B[0m\u001B[1;33m:\u001B[0m\u001B[1;33m\u001B[0m\u001B[1;33m\u001B[0m\u001B[0m\n\u001B[0;32m    225\u001B[0m         \u001B[1;31m# Cannot rely on checking for EEXIST, since the operating system\u001B[0m\u001B[1;33m\u001B[0m\u001B[1;33m\u001B[0m\u001B[1;33m\u001B[0m\u001B[0m\n",
      "\u001B[1;31mFileExistsError\u001B[0m: [WinError 183] Cannot create a file when that file already exists: './downloads/Pyramids of Egypt - Lost Ancient Civilizations'"
     ]
    }
   ],
   "source": [
    "\n",
    "\n",
    "urls = ['https://www.youtube.com/watch?v=4Lemz5r_1Eo']\n",
    "\n",
    "for url in urls:\n",
    "    yt = pytube.YouTube(url)\n",
    "    video = yt.streams.get_highest_resolution()\n",
    "    capt = yt.captions\n",
    "    if capt.lang_code_index.get('en'):\n",
    "        caption = yt.captions.get_by_language_code('en')\n",
    "    elif capt.lang_code_index.get('a.en'):\n",
    "        caption = yt.captions.get_by_language_code('a.en')\n",
    "    else:\n",
    "        continue\n",
    "\n",
    "    video_path = './downloads/{}'.format(video.title)\n",
    "    os.makedirs(video_path)\n",
    "    video.download(video_path)\n",
    "    srt_captions = caption.generate_srt_captions()\n",
    "    srt_name = '{}/{}.srt'.format(video_path, video.default_filename)\n",
    "    with open(srt_name, \"w\") as f:\n",
    "        f.write(srt_captions)\n"
   ],
   "metadata": {
    "collapsed": false,
    "pycharm": {
     "name": "#%%\n"
    }
   }
  },
  {
   "cell_type": "code",
   "execution_count": 2,
   "outputs": [
    {
     "name": "stdout",
     "output_type": "stream",
     "text": [
      "9020\n",
      "11840\n"
     ]
    }
   ],
   "source": [
    "for video_dir in os.listdir('./downloads'):\n",
    "    video_files = os.listdir('./downloads/{}'.format(video_dir))\n",
    "    srt_name = video_files[0] if video_files[0].endswith('.srt') else video_files[1]\n",
    "    srt_file = pysrt.open(f'./downloads/{video_dir}/{srt_name}')\n",
    "    video_transcript = ''\n",
    "    for srt_part in srt_file:\n",
    "        video_transcript += srt_part.text + '\\n'\n",
    "    print(len(video_transcript))"
   ],
   "metadata": {
    "collapsed": false,
    "pycharm": {
     "name": "#%%\n"
    }
   }
  }
 ],
 "metadata": {
  "kernelspec": {
   "name": "pycharm-827ff365",
   "language": "python",
   "display_name": "PyCharm (YouTube_translator)"
  },
  "language_info": {
   "codemirror_mode": {
    "name": "ipython",
    "version": 2
   },
   "file_extension": ".py",
   "mimetype": "text/x-python",
   "name": "python",
   "nbconvert_exporter": "python",
   "pygments_lexer": "ipython2",
   "version": "2.7.6"
  }
 },
 "nbformat": 4,
 "nbformat_minor": 0
}